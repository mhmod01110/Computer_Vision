{
 "cells": [
  {
   "cell_type": "markdown",
   "metadata": {},
   "source": [
    "import cv2"
   ]
  },
  {
   "cell_type": "code",
   "execution_count": 1,
   "metadata": {},
   "outputs": [],
   "source": [
    "import cv2"
   ]
  },
  {
   "cell_type": "code",
   "execution_count": 10,
   "metadata": {},
   "outputs": [],
   "source": [
    "# Initialize video capture (0 for webcam)\n",
    "cap = cv2.VideoCapture(0)\n",
    "\n",
    "# Get the video frame width, height, and frames per second (fps)\n",
    "frame_width = int(cap.get(cv2.CAP_PROP_FRAME_WIDTH))\n",
    "frame_height = int(cap.get(cv2.CAP_PROP_FRAME_HEIGHT))\n",
    "fps = 20  # Typically, webcam fps can be manually set, 20 is a common default value\n",
    "\n",
    "# Define the codec and create a VideoWriter object for the background model\n",
    "fourcc = cv2.VideoWriter_fourcc(*'mp4v')  # Codec for MP4\n",
    "output_video_path = 'background_retrieval_output.mp4'\n",
    "out = cv2.VideoWriter(output_video_path, fourcc, fps, (frame_width, frame_height), isColor=True)\n",
    "\n",
    "# Create a background subtractor using GMM\n",
    "bg_subtractor = cv2.createBackgroundSubtractorMOG2(history=50, varThreshold=16, detectShadows=True)\n",
    "\n",
    "while True:\n",
    "    ret, frame = cap.read()\n",
    "    \n",
    "    if not ret:\n",
    "        break\n",
    "\n",
    "    # Apply the background subtractor to get the foreground mask\n",
    "    fg_mask = bg_subtractor.apply(frame)\n",
    "\n",
    "    # Optional: Improve the mask using morphological operations\n",
    "    kernel = cv2.getStructuringElement(cv2.MORPH_ELLIPSE, (3, 3))\n",
    "    fg_mask = cv2.morphologyEx(fg_mask, cv2.MORPH_OPEN, kernel)\n",
    "    fg_mask = cv2.morphologyEx(fg_mask, cv2.MORPH_CLOSE, kernel)\n",
    "\n",
    "    # Retrieve the background model\n",
    "    background_model = bg_subtractor.getBackgroundImage()\n",
    "\n",
    "    # If the background model is ready, write it to the output video\n",
    "    if background_model is not None:\n",
    "        out.write(background_model)\n",
    "\n",
    "    # Display the results (optional, can be commented out)\n",
    "    cv2.imshow('Foreground Mask', fg_mask)\n",
    "    cv2.imshow('Background Model', background_model)\n",
    "\n",
    "    if cv2.waitKey(30) & 0xFF == 27:  # Press 'ESC' to exit\n",
    "        break\n",
    "\n",
    "# Release the video capture and writer, and close all windows\n",
    "cap.release()\n",
    "out.release()\n",
    "cv2.destroyAllWindows()\n"
   ]
  },
  {
   "cell_type": "code",
   "execution_count": null,
   "metadata": {},
   "outputs": [],
   "source": []
  }
 ],
 "metadata": {
  "kernelspec": {
   "display_name": "scikitlearn",
   "language": "python",
   "name": "python3"
  },
  "language_info": {
   "codemirror_mode": {
    "name": "ipython",
    "version": 3
   },
   "file_extension": ".py",
   "mimetype": "text/x-python",
   "name": "python",
   "nbconvert_exporter": "python",
   "pygments_lexer": "ipython3",
   "version": "3.7.11"
  }
 },
 "nbformat": 4,
 "nbformat_minor": 2
}
